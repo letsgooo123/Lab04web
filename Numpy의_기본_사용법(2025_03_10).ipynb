{
  "nbformat": 4,
  "nbformat_minor": 0,
  "metadata": {
    "colab": {
      "provenance": [],
      "authorship_tag": "ABX9TyPdol4x5aYXuHGriJV8r6L1",
      "include_colab_link": true
    },
    "kernelspec": {
      "name": "python3",
      "display_name": "Python 3"
    },
    "language_info": {
      "name": "python"
    }
  },
  "cells": [
    {
      "cell_type": "markdown",
      "metadata": {
        "id": "view-in-github",
        "colab_type": "text"
      },
      "source": [
        "<a href=\"https://colab.research.google.com/github/letsgooo123/Lab04web/blob/main/Numpy%EC%9D%98_%EA%B8%B0%EB%B3%B8_%EC%82%AC%EC%9A%A9%EB%B2%95(2025_03_10).ipynb\" target=\"_parent\"><img src=\"https://colab.research.google.com/assets/colab-badge.svg\" alt=\"Open In Colab\"/></a>"
      ]
    },
    {
      "cell_type": "code",
      "execution_count": 1,
      "metadata": {
        "colab": {
          "base_uri": "https://localhost:8080/"
        },
        "id": "CnPzEOjYp7OU",
        "outputId": "605f4352-fdda-4dab-b176-dcce5d057008"
      },
      "outputs": [
        {
          "output_type": "stream",
          "name": "stdout",
          "text": [
            "3\n",
            "int64\n",
            "3\n"
          ]
        }
      ],
      "source": [
        "List를 Numpy로 바꾸어 보기\n",
        "\n",
        "import numpy as np\n",
        "\n",
        "array = np.array([1, 2, 3])\n",
        "print(array.size) # 배열의 크기\n",
        "print(array.dtype) # 배열 원소의 타입\n",
        "print(array[2]) # 인덱스 2의 원소"
      ]
    },
    {
      "cell_type": "code",
      "source": [
        "Numpy 배열 합치기\n",
        "\n",
        "import numpy as np\n",
        "\n",
        "array1 = np.array([1, 2, 3])\n",
        "array2 = np.array([4, 5, 6])\n",
        "array3 = np.concatenate([array1, array2])\n",
        "\n",
        "print(array3.shape)\n",
        "print(array3)"
      ],
      "metadata": {
        "colab": {
          "base_uri": "https://localhost:8080/"
        },
        "id": "ivC8g0tPqK4l",
        "outputId": "072f64fc-7b52-4697-e799-1504ab504597"
      },
      "execution_count": 3,
      "outputs": [
        {
          "output_type": "stream",
          "name": "stdout",
          "text": [
            "(6,)\n",
            "[1 2 3 4 5 6]\n"
          ]
        }
      ]
    },
    {
      "cell_type": "code",
      "source": [
        "import numpy as np\n",
        "\n",
        "array1 = np.arange(4).reshape(1, 4)\n",
        "array2 = np.arange(8).reshape(2, 4)\n",
        "array3 = np.concatenate([array1, array2], axis=0)\n",
        "\n",
        "print(array3.shape)\n",
        "print(array3)"
      ],
      "metadata": {
        "colab": {
          "base_uri": "https://localhost:8080/"
        },
        "id": "DVXoBAi6qlic",
        "outputId": "3667bfcc-a71e-46f1-820a-7b5713b24ee9"
      },
      "execution_count": 4,
      "outputs": [
        {
          "output_type": "stream",
          "name": "stdout",
          "text": [
            "(3, 4)\n",
            "[[0 1 2 3]\n",
            " [0 1 2 3]\n",
            " [4 5 6 7]]\n"
          ]
        }
      ]
    },
    {
      "cell_type": "code",
      "source": [
        "Numpy 배열 형태 바꾸기\n",
        "\n",
        "import numpy as np\n",
        "\n",
        "array1 = np.array([1, 2, 3, 4])\n",
        "array2 = array1.reshape((2, 2))\n",
        "print(array2.shape)"
      ],
      "metadata": {
        "colab": {
          "base_uri": "https://localhost:8080/"
        },
        "id": "pousHYRnqy1F",
        "outputId": "288bb4d9-e18d-400b-844e-e068fa62c367"
      },
      "execution_count": 5,
      "outputs": [
        {
          "output_type": "stream",
          "name": "stdout",
          "text": [
            "(2, 2)\n"
          ]
        }
      ]
    },
    {
      "cell_type": "code",
      "source": [
        "Numpy 배열 나누기\n",
        "\n",
        "import numpy as np\n",
        "\n",
        "array = np.arange(8).reshape(2, 4)\n",
        "left, right = np.split(array, [2], axis=1)\n",
        "\n",
        "print(left.shape)\n",
        "print(right.shape)\n",
        "print(right[1][1])"
      ],
      "metadata": {
        "colab": {
          "base_uri": "https://localhost:8080/"
        },
        "id": "b3FW3CPbq381",
        "outputId": "d6735c69-702c-4e78-8b22-4a62449fd3cf"
      },
      "execution_count": 6,
      "outputs": [
        {
          "output_type": "stream",
          "name": "stdout",
          "text": [
            "(2, 2)\n",
            "(2, 2)\n",
            "7\n"
          ]
        }
      ]
    }
  ]
}